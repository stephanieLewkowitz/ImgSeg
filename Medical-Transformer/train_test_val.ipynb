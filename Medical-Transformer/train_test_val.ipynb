{
 "cells": [
  {
   "cell_type": "markdown",
   "id": "8ca6ab3e",
   "metadata": {},
   "source": [
    "# https://github.com/jeya-maria-jose/Medical-Transformer"
   ]
  },
  {
   "cell_type": "code",
   "execution_count": null,
   "id": "4335fe6a",
   "metadata": {},
   "outputs": [],
   "source": []
  },
  {
   "cell_type": "code",
   "execution_count": null,
   "id": "d7c0e396",
   "metadata": {},
   "outputs": [],
   "source": []
  },
  {
   "cell_type": "code",
   "execution_count": null,
   "id": "827ba085",
   "metadata": {},
   "outputs": [],
   "source": []
  },
  {
   "cell_type": "code",
   "execution_count": 3,
   "id": "bf9842a7",
   "metadata": {},
   "outputs": [
    {
     "name": "stdout",
     "output_type": "stream",
     "text": [
      "Total_params: 1337330\n",
      "Traceback (most recent call last):\n",
      "  File \"train.py\", line 140, in <module>\n",
      "    output = model(X_batch)\n",
      "  File \"/home/slewkowitz/.local/lib/python3.8/site-packages/torch/nn/modules/module.py\", line 1051, in _call_impl\n",
      "    return forward_call(*input, **kwargs)\n",
      "  File \"/home/slewkowitz/GitRepo/Medical-Transformer/lib/models/axialnet.py\", line 507, in forward\n",
      "    return self._forward_impl(x)\n",
      "  File \"/home/slewkowitz/GitRepo/Medical-Transformer/lib/models/axialnet.py\", line 485, in _forward_impl\n",
      "    x1 = self.layer1(x)\n",
      "  File \"/home/slewkowitz/.local/lib/python3.8/site-packages/torch/nn/modules/module.py\", line 1051, in _call_impl\n",
      "    return forward_call(*input, **kwargs)\n",
      "  File \"/home/slewkowitz/.local/lib/python3.8/site-packages/torch/nn/modules/container.py\", line 139, in forward\n",
      "    input = module(input)\n",
      "  File \"/home/slewkowitz/.local/lib/python3.8/site-packages/torch/nn/modules/module.py\", line 1051, in _call_impl\n",
      "    return forward_call(*input, **kwargs)\n",
      "  File \"/home/slewkowitz/GitRepo/Medical-Transformer/lib/models/axialnet.py\", line 289, in forward\n",
      "    out = self.hight_block(out)\n",
      "  File \"/home/slewkowitz/.local/lib/python3.8/site-packages/torch/nn/modules/module.py\", line 1051, in _call_impl\n",
      "    return forward_call(*input, **kwargs)\n",
      "  File \"/home/slewkowitz/GitRepo/Medical-Transformer/lib/models/axialnet.py\", line 75, in forward\n",
      "    stacked_similarity = self.bn_similarity(stacked_similarity).view(N * W, 3, self.groups, H, H).sum(dim=1)\n",
      "RuntimeError: CUDA out of memory. Tried to allocate 256.00 MiB (GPU 0; 3.82 GiB total capacity; 2.36 GiB already allocated; 46.00 MiB free; 2.38 GiB reserved in total by PyTorch)\n"
     ]
    }
   ],
   "source": [
    "!python3 train.py --train_dataset '/home/slewkowitz/MYTI/DATA/850_ALL/850_1_AND_2/V4/X_DATA_COPY/train/' --val_dataset '/home/slewkowitz/MYTI/DATA/850_ALL/850_1_AND_2/V4/X_DATA_COPY/test/' --direc '/home/slewkowitz/MYTI/DATA/850_ALL/850_1_AND_2/V4/X_DATA_COPY/results1/' --batch_size 4 --epoch 400 --save_freq 10 --modelname \"axialunet\" --learning_rate 0.001 --imgsize 256 --gray \"yes\"\n"
   ]
  },
  {
   "cell_type": "code",
   "execution_count": null,
   "id": "ea9df112",
   "metadata": {},
   "outputs": [],
   "source": [
    "!python test.py --loaddirec \"/content/drive/MyDrive/DATA/MYTI/RESULTS/Med_Transformer/gatedaxialunet/train_results6/final_model.pth\" --val_dataset \"/home/slewkowitz/DATA/MYTI/850_ALL/850_1_AND_2/V4/X_DATA_COPY/val\" --direc '/home/slewkowitz/DATA/MYTI/850_ALL/850_1_AND_2/V4/X_DATA_COPY/val_results6' --batch_size 1 --modelname \"gatedaxialunet\" --imgsize 256 --gray \"yes\""
   ]
  },
  {
   "cell_type": "code",
   "execution_count": null,
   "id": "017a95dc",
   "metadata": {},
   "outputs": [],
   "source": []
  },
  {
   "cell_type": "code",
   "execution_count": null,
   "id": "b96ab715",
   "metadata": {},
   "outputs": [],
   "source": []
  },
  {
   "cell_type": "code",
   "execution_count": null,
   "id": "00b531f7",
   "metadata": {},
   "outputs": [],
   "source": []
  },
  {
   "cell_type": "code",
   "execution_count": null,
   "id": "52f2332a",
   "metadata": {},
   "outputs": [],
   "source": []
  }
 ],
 "metadata": {
  "kernelspec": {
   "display_name": "Python 3 (ipykernel)",
   "language": "python",
   "name": "python3"
  },
  "language_info": {
   "codemirror_mode": {
    "name": "ipython",
    "version": 3
   },
   "file_extension": ".py",
   "mimetype": "text/x-python",
   "name": "python",
   "nbconvert_exporter": "python",
   "pygments_lexer": "ipython3",
   "version": "3.8.10"
  }
 },
 "nbformat": 4,
 "nbformat_minor": 5
}
